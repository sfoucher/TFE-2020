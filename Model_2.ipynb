{
  "nbformat": 4,
  "nbformat_minor": 0,
  "metadata": {
    "colab": {
      "name": "Model_2.ipynb",
      "provenance": [],
      "collapsed_sections": [],
      "include_colab_link": true
    },
    "kernelspec": {
      "name": "python3",
      "display_name": "Python 3"
    },
    "accelerator": "GPU"
  },
  "cells": [
    {
      "cell_type": "markdown",
      "metadata": {
        "id": "view-in-github",
        "colab_type": "text"
      },
      "source": [
        "<a href=\"https://colab.research.google.com/github/Alexandre-Delplanque/TFE-2020/blob/master/Model_2.ipynb\" target=\"_parent\"><img src=\"https://colab.research.google.com/assets/colab-badge.svg\" alt=\"Open In Colab\"/></a>"
      ]
    },
    {
      "cell_type": "markdown",
      "metadata": {
        "id": "WEEmhAEjYjBq",
        "colab_type": "text"
      },
      "source": [
        "# Object detection\n",
        "---\n",
        "Utilisation de \"[mmdetection](https://github.com/open-mmlab/mmdetection.git)\". Mmdetection s'utilise normalement sur Linux (Windows n'est pas encore supporté), Colab est donc une bonne alternative pour les utilisateurs de Windows.\n",
        "\n",
        "Au préalable, télécharger puis loader sur Google Drive, [cette version](https://github.com/open-mmlab/mmdetection/tree/c0ac99eff015c108b34a9f80e3ff59b106dbc62e) encore non-officielle du repository. Cette version permet d'utiliser l'entiereté des réseaux, sans apparition d'erreurs.\n",
        "\n",
        "Une partie du code est prévue pour copier ce dossier de fichier vers `/content/mmdetection_update` afin d'éviter de modifier les fichiers sources originales dans le drive.\n",
        "\n",
        "\n"
      ]
    },
    {
      "cell_type": "markdown",
      "metadata": {
        "id": "onvnoZXsa_Xy",
        "colab_type": "text"
      },
      "source": [
        "# Connection à \"My Drive\""
      ]
    },
    {
      "cell_type": "code",
      "metadata": {
        "id": "DCEBFzbj9miC",
        "colab_type": "code",
        "colab": {}
      },
      "source": [
        "# Connection à mon drive\n",
        "from google.colab import drive\n",
        "drive.mount('/content/drive')"
      ],
      "execution_count": 0,
      "outputs": []
    },
    {
      "cell_type": "markdown",
      "metadata": {
        "id": "BN307dh3837y",
        "colab_type": "text"
      },
      "source": [
        "# URL vers le(s) repo(s) et définition des chemins d'accès\n"
      ]
    },
    {
      "cell_type": "code",
      "metadata": {
        "id": "MgkEPpE5pEBu",
        "colab_type": "code",
        "colab": {}
      },
      "source": [
        "# --------------------------------------------------------\n",
        "# URL vers le(s) repo(s) et définition des chemins d'accès\n",
        "# --------------------------------------------------------\n",
        "import os\n",
        "from os.path import exists, join, basename, splitext\n",
        "import shutil\n",
        "\n",
        "# URL du repo de la data\n",
        "git_repo_data = 'https://github.com/Alexandre-Delplanque/TFE-2020.git' \n",
        "\n",
        "# Chemin d'accès vers mmdetection\n",
        "%cd /content\n",
        "data_dir = os.path.abspath(splitext(basename(git_repo_data))[0])\n",
        "print(\"Data path : {}\".format(data_dir))\n",
        "\n",
        "# Chemin d'accès vers mmdetection\n",
        "mmdetection_dir = '/content/mmdetection_update'\n",
        "print(\"MMdetection path : {}\".format(mmdetection_dir))\n",
        "\n",
        "# Copie de ce tree dans '/content' afin de préserver le dossier source\n",
        "mmdetection_drive_dir = '/content/drive/My Drive/MMDetection - Object detection/mmdetection-c0ac99eff015c108b34a9f80e3ff59b106dbc62e'\n",
        "shutil.copytree(mmdetection_drive_dir, mmdetection_dir)"
      ],
      "execution_count": 0,
      "outputs": []
    },
    {
      "cell_type": "markdown",
      "metadata": {
        "id": "g5EhmqkU5bYs",
        "colab_type": "text"
      },
      "source": [
        "# Modification de 'mmdetection/mmdet/models/plugins/non_local.py'\n",
        "Permet de ne plus obtenir l'erreur :\n",
        "\n",
        "```\n",
        "RuntimeError: cuDNN error: CUDNN_STATUS_NOT_SUPPORTED. This error may appear if you passed in a non-contiguous input.\n",
        "```\n",
        "\n",
        "Solution trouvée [ici](https://github.com/open-mmlab/mmdetection/issues/2109)"
      ]
    },
    {
      "cell_type": "code",
      "metadata": {
        "id": "IWkpbjDM5aDM",
        "colab_type": "code",
        "colab": {}
      },
      "source": [
        "# ---------------------------------------------------------------\n",
        "# Modification de 'mmdetection/mmdet/models/plugins/non_local.py'\n",
        "# ---------------------------------------------------------------\n",
        "\n",
        "# Modification de la ligne 110 du fichier 'non_local.py', source de l'erreur\n",
        "non_local_file = os.path.join(mmdetection_dir, 'mmdet/models/plugins/non_local.py')\n",
        "\n",
        "with open(non_local_file) as f:\n",
        "    s = f.read()\n",
        "\n",
        "new_s = s.splitlines()\n",
        "new_s[109] = '        y = y.permute(0, 2, 1).contiguous().reshape(n, self.inter_channels, h, w)'\n",
        "new_s = '\\n'.join(new_s)\n",
        "\n",
        "with open(non_local_file, 'w') as f:\n",
        "    f.write(new_s)"
      ],
      "execution_count": 0,
      "outputs": []
    },
    {
      "cell_type": "markdown",
      "metadata": {
        "id": "zXiHKqM39T55",
        "colab_type": "text"
      },
      "source": [
        "# Clone du(des) repo(s), installations et construction de MMdetection\n",
        "\n",
        "Le message ```Restart runtime ``` va apparaitre à la fin de l'éxecution de cette cellule, cliquer sur le bouton dans la console pour redémarrer l'environnement d'exécution.\n",
        "\n",
        "Ensuite, réexécuter les cellules précédentes (sauf la première) et celle-ci avant de continuer."
      ]
    },
    {
      "cell_type": "code",
      "metadata": {
        "id": "vD-92gAs-knA",
        "colab_type": "code",
        "colab": {}
      },
      "source": [
        "# -------------------------------------------------------------------\n",
        "# Clone du(des) repo(s), installations et construction de MMdetection\n",
        "# -------------------------------------------------------------------\n",
        "\n",
        "# Clone du repo contenant la data\n",
        "!git clone $git_repo_data\n",
        "\n",
        "# Installation de MMcv\n",
        "!pip install -q mmcv terminaltables\n",
        "\n",
        "# Installation de MMDetection\n",
        "!cd {mmdetection_dir} && python setup.py install\n",
        "!pip install -r {os.path.join(mmdetection_dir, \"requirements.txt\")}\n",
        "\n",
        "# Ajout du path au système\n",
        "import sys\n",
        "sys.path.append(mmdetection_dir)\n",
        "\n",
        "# Effacement de l'output\n",
        "from google.colab import output\n",
        "output.clear()"
      ],
      "execution_count": 0,
      "outputs": []
    },
    {
      "cell_type": "markdown",
      "metadata": {
        "id": "ZBPNzVdGSFQV",
        "colab_type": "text"
      },
      "source": [
        "# Création d'un dataset"
      ]
    },
    {
      "cell_type": "code",
      "metadata": {
        "id": "NbGHcGSTC4z7",
        "colab_type": "code",
        "colab": {}
      },
      "source": [
        "#--------------------------------------\n",
        "# Création d'un fichier 'my_dataset.py'\n",
        "#--------------------------------------\n",
        "\n",
        "# Noms des classes\n",
        "class_names = [\"Bubale\",\"Buffalo\",\"Hippopotamus\",\"Kob\",\"Topi\",\"Warthog\",\"Waterbuck\"]\n",
        "\n",
        "# Création\n",
        "with open(os.path.join(mmdetection_dir, \"mmdet/datasets/my_dataset.py\"),'w') as f:\n",
        "    f.write('from .coco import CocoDataset\\n')\n",
        "    f.write('from .registry import DATASETS\\n')\n",
        "    f.write('\\n')\n",
        "    f.write('@DATASETS.register_module\\n')\n",
        "    f.write('class MyDataset(CocoDataset): \\n')\n",
        "    f.write('\\n')\n",
        "    f.write('\\tCLASSES = ({})'.format(\", \".join([\"\\'{}\\'\".format(name) for name in class_names])))\n",
        "\n",
        "# Ajout dans '__init__.py'\n",
        "with open(os.path.join(mmdetection_dir, \"mmdet/datasets/__init__.py\"),'r') as f:\n",
        "    init_content = f.read()\n",
        "\n",
        "with open(os.path.join(mmdetection_dir, \"mmdet/datasets/__init__.py\"),'w') as f:\n",
        "    f.write('from .my_dataset import MyDataset \\n')\n",
        "    f.write(init_content[:-3] + ', \\'MyDataset\\'\\n]')\n"
      ],
      "execution_count": 0,
      "outputs": []
    },
    {
      "cell_type": "markdown",
      "metadata": {
        "id": "_6bUews-cIDU",
        "colab_type": "text"
      },
      "source": [
        "# Création et transfert des sous-images (sub-frames) vers 'mmdet/data'"
      ]
    },
    {
      "cell_type": "code",
      "metadata": {
        "id": "KqvdMczQgGfR",
        "colab_type": "code",
        "colab": {}
      },
      "source": [
        "#---------------------------------------\n",
        "# 'mmdet/data'\n",
        "#---------------------------------------\n",
        "''' Organisation du dossier cible\n",
        "\n",
        "mmdetection\n",
        "    |---data\n",
        "          |---coco\n",
        "                |---annotations\n",
        "                |---train\n",
        "                |---val\n",
        "                |---test\n",
        "\n",
        "'''\n",
        "from shutil import copyfile\n",
        "import numpy as np\n",
        "from os import path\n",
        "import glob\n",
        "\n",
        "# Création des dossiers de destination\n",
        "ann_mmdet_dir = os.path.join(mmdetection_dir,'data/coco/annotations')\n",
        "train_mmdet_dir = os.path.join(mmdetection_dir,'data/coco/train')\n",
        "val_mmdet_dir = os.path.join(mmdetection_dir,'data/coco/val')\n",
        "test_mmdet_dir = os.path.join(mmdetection_dir,'data/coco/test')\n",
        "\n",
        "if path.exists(ann_mmdet_dir) is not True:\n",
        "    os.makedirs(ann_mmdet_dir)\n",
        "if path.exists(train_mmdet_dir) is not True:\n",
        "    os.makedirs(train_mmdet_dir)\n",
        "if path.exists(val_mmdet_dir) is not True:\n",
        "    os.makedirs(val_mmdet_dir)\n",
        "if path.exists(test_mmdet_dir) is not True:\n",
        "    os.makedirs(test_mmdet_dir)\n",
        "\n",
        "# Création des sub-frames dans les dossiers\n",
        "!pip install parse\n",
        "output.clear()\n",
        "\n",
        "# Train\n",
        "!python '/content/TFE-2020/Pre-processing/subframes_maker.py' \\\n",
        "    --img-path '/content/TFE-2020/Images/train' \\\n",
        "    --ann-path '/content/TFE-2020/Annotations-COCO/train_cocotype.json' \\\n",
        "    --out-dir '/content/mmdetection_update/data/coco/train' \\\n",
        "    --ann-type bbox \\\n",
        "    --size 500x500\n",
        "\n",
        "# Validation\n",
        "!python '/content/TFE-2020/Pre-processing/subframes_maker.py' \\\n",
        "    --img-path '/content/TFE-2020/Images/validation' \\\n",
        "    --ann-path '/content/TFE-2020/Annotations-COCO/val_cocotype.json' \\\n",
        "    --out-dir '/content/mmdetection_update/data/coco/val' \\\n",
        "    --ann-type bbox \\\n",
        "    --size 500x500\n",
        "\n",
        "# Test\n",
        "!python '/content/TFE-2020/Pre-processing/subframes_maker.py' \\\n",
        "    --img-path '/content/TFE-2020/Images/test' \\\n",
        "    --ann-path '/content/TFE-2020/Annotations-COCO/test_cocotype.json' \\\n",
        "    --out-dir '/content/mmdetection_update/data/coco/test' \\\n",
        "    --ann-type bbox \\\n",
        "    --size 500x500"
      ],
      "execution_count": 0,
      "outputs": []
    },
    {
      "cell_type": "code",
      "metadata": {
        "id": "6hOLO6boiMzu",
        "colab_type": "code",
        "colab": {}
      },
      "source": [
        "# Déplacement des fichiers d'annotations\n",
        "for folder in ['train','val','test']:\n",
        "    old_name = '/content/mmdetection_update/data/coco/'+folder+'/coco_subframes.json'\n",
        "    new_name = '/content/mmdetection_update/data/coco/annotations/'+folder+\"_cocotype.json\"\n",
        "    shutil.copy(old_name, new_name)"
      ],
      "execution_count": 0,
      "outputs": []
    },
    {
      "cell_type": "markdown",
      "metadata": {
        "id": "ZHKkXdIU_6wY",
        "colab_type": "text"
      },
      "source": [
        "# Regroupement des classes"
      ]
    },
    {
      "cell_type": "code",
      "metadata": {
        "id": "7NXvMIer__e_",
        "colab_type": "code",
        "colab": {}
      },
      "source": [
        "# ------------------------\n",
        "# Regroupement des classes\n",
        "# ------------------------\n",
        "import re\n",
        "\n",
        "# Class perso\n",
        "os.chdir('/content/TFE-2020/Pre-processing')\n",
        "from COCOmgmt import COCOmgmt\n",
        "\n",
        "# Instanciation\n",
        "COCO_train = COCOmgmt('/content/mmdetection_update/data/coco/annotations/train_cocotype.json')\n",
        "COCO_test = COCOmgmt('/content/mmdetection_update/data/coco/annotations/test_cocotype.json')\n",
        "\n",
        "# Inputs \n",
        "categories = [\n",
        "              {\"supercategory\":'animal', \"id\":1, \"name\": 'Ancelaphinae'},\n",
        "              {\"supercategory\":'animal', \"id\":2, \"name\": 'Buffalo'},\n",
        "              {\"supercategory\":'animal', \"id\":3, \"name\": 'Hippopotamus'},\n",
        "              {\"supercategory\":'animal', \"id\":4, \"name\": 'Kob'},\n",
        "              {\"supercategory\":'animal', \"id\":5, \"name\": 'Warthog'},\n",
        "              {\"supercategory\":'animal', \"id\":6, \"name\": 'Waterbuck'}\n",
        "              ]\n",
        "group = {1:[1,5], 2:[2], 3:[3], 4:[4], 5:[6], 6:[7]}\n",
        "output_path = '/content/mmdetection_update/data/coco/annotations/test_group_cocotype.json'\n",
        "COCO_test.groupcat(categories, group, output_path)\n",
        "output_path = '/content/mmdetection_update/data/coco/annotations/train_group_cocotype.json'\n",
        "COCO_train.groupcat(categories, group, output_path)\n",
        "\n",
        "# Vérification graphique\n",
        "COCOgroup = COCOmgmt(output_path)\n",
        "train_grp = COCOgroup.displaycatdist()\n",
        "\n",
        "# Modification du nom des classes dans 'my_dataset.py'\n",
        "class_names = []\n",
        "for cat in categories:\n",
        "    class_names.append(cat['name'])\n",
        "\n",
        "dataset_file = os.path.join(mmdetection_dir, \"mmdet/datasets/my_dataset.py\")\n",
        "with open(dataset_file) as f:\n",
        "    s = f.read()\n",
        "    s = re.sub('CLASSES = \\(.*?\\)',\n",
        "               'CLASSES = ({})'.format(str(\", \".join([\"\\'{}\\'\".format(name) for name in class_names]))),s)\n",
        "\n",
        "# Ecriture dans le fichier\n",
        "with open(dataset_file, 'w') as f:\n",
        "    f.write(s)"
      ],
      "execution_count": 0,
      "outputs": []
    },
    {
      "cell_type": "markdown",
      "metadata": {
        "id": "cidJhkRcUlEl",
        "colab_type": "text"
      },
      "source": [
        "# Pondération des classes\n",
        "Nécessité de modifier les paramètres de la fonction de coût ([Issue #996](https://github.com/open-mmlab/mmdetection/issues/996)) : [cross_entropy](https://pytorch.org/docs/stable/nn.functional.html#cross-entropy)."
      ]
    },
    {
      "cell_type": "code",
      "metadata": {
        "id": "CHHat_oaVnV1",
        "colab_type": "code",
        "colab": {}
      },
      "source": [
        "# -----------------------\n",
        "# Pondération des classes\n",
        "# -----------------------\n",
        "import re\n",
        "\n",
        "n_train = [int(w) for w in np.array(train_grp)[1:,2]]\n",
        "\n",
        "loss_file = '/content/mmdetection_update/mmdet/models/losses/cross_entropy_loss.py'\n",
        "with open(loss_file) as f:\n",
        "    s = f.read()\n",
        "\n",
        "new_s = s.splitlines()\n",
        "new_s[8] = 'def cross_entropy(pred, label, weight=class_weights, reduction=\\'mean\\', avg_factor=None):'\n",
        "new_s[7] = 'n_train = {} \\n\\\n",
        "n_train = torch.FloatTensor(n_train) \\n\\\n",
        "class_weights = torch.min(n_train)/n_train \\n\\\n",
        "device = torch.device(\"cuda:0\" if torch.cuda.is_available() else \"cpu\") \\n\\\n",
        "class_weights = class_weights.to(device) \\n'.format(n_train)\n",
        "\n",
        "new_s = '\\n'.join(new_s)\n",
        "\n",
        "with open(loss_file, 'w') as f:\n",
        "    f.write(new_s)"
      ],
      "execution_count": 0,
      "outputs": []
    },
    {
      "cell_type": "markdown",
      "metadata": {
        "id": "voC9MWYMQpnZ",
        "colab_type": "text"
      },
      "source": [
        "# Paramètres"
      ]
    },
    {
      "cell_type": "code",
      "metadata": {
        "id": "djrnMnq999bV",
        "colab_type": "code",
        "colab": {}
      },
      "source": [
        "#----------------------------------------------\n",
        "# Configuration des modèles voulant être testés\n",
        "#-----------------------------------------------\n",
        "\n",
        "MODELS_CONFIG = {\n",
        "    'libra_faster_rcnn_r50_fpn_1x': {\n",
        "        'config_file': 'configs/libra_rcnn/libra_faster_rcnn_r50_fpn_1x.py'\n",
        "    },\n",
        "    'libra_faster_rcnn_r101_fpn_1x': {\n",
        "        'config_file': 'configs/libra_rcnn/libra_faster_rcnn_r101_fpn_1x.py',\n",
        "    },\n",
        "    'faster_rcnn_r50_fpn_1x': {\n",
        "        'config_file': 'configs/faster_rcnn_r50_fpn_1x.py',\n",
        "    }\n",
        "}\n",
        "\n",
        "#--------------------------\n",
        "# Paramètres d'entrainement\n",
        "#--------------------------\n",
        "\n",
        "# Sélection du modèle\n",
        "selected_model = 'faster_rcnn_r50_fpn_1x'\n",
        "\n",
        "# Nom du fichier de configurations\n",
        "config_file = MODELS_CONFIG[selected_model]['config_file']\n",
        "print(config_file)\n",
        "\n",
        "# Taille des images\n",
        "img_scale = (500,500)\n",
        "\n",
        "# Nombre d'epochs pour l'entrainement\n",
        "total_epochs = 15\n",
        "\n",
        "# Learning rate\n",
        "lr = 0.01\n",
        "lr_steps = [5,8,12]\n",
        "\n",
        "# Weight decay\n",
        "decay = 0.0005\n",
        "\n",
        "# Taille d'un batch\n",
        "batch_size = 4\n"
      ],
      "execution_count": 0,
      "outputs": []
    },
    {
      "cell_type": "markdown",
      "metadata": {
        "id": "CUzHGaOfvXV1",
        "colab_type": "text"
      },
      "source": [
        "# Modification du fichier de configuration"
      ]
    },
    {
      "cell_type": "code",
      "metadata": {
        "id": "B9Z0ewX6vffq",
        "colab_type": "code",
        "colab": {}
      },
      "source": [
        "import os\n",
        "import re\n",
        "\n",
        "# Chemin d'accès vers le fichier\n",
        "config_fname = os.path.join(mmdetection_dir, config_file)\n",
        "# S'assurer que le chemin existe\n",
        "assert os.path.isfile(config_fname), '`{}` not exist'.format(config_fname)\n",
        "print(config_fname)\n",
        "\n",
        "#-------------------\n",
        "# Modifications\n",
        "#-------------------\n",
        "fname = config_fname\n",
        "float_num = '[+-]?[0-9]+\\.[0-9]+'\n",
        "with open(fname) as f:\n",
        "    s = f.read()\n",
        "    work_dir = re.findall(r\"work_dir = \\'(.*?)\\'\", s)[0]\n",
        "\n",
        "    # Modification du nombre de classes\n",
        "    s = re.sub('num_classes=.*?,',\n",
        "               'num_classes={},'.format(len(class_names) + 1), s)\n",
        "    # Modification du nombre d'epochs\n",
        "    s = re.sub('total_epochs = \\d+',\n",
        "               'total_epochs = {}'.format(total_epochs), s)\n",
        "    # Modification du type de dataset\n",
        "    s = re.sub(\"dataset_type = 'CocoDataset'\",\n",
        "               \"dataset_type = 'MyDataset'\", s)\n",
        "    # Modification des chemin d'accès vers les annotations\n",
        "    s = re.sub(\"annotations/instances_train2017.json\",\n",
        "               \"annotations/train_group_cocotype.json\", s)\n",
        "    s = re.sub(\"annotations/instances_val2017.json\",\n",
        "               \"annotations/test_group_cocotype.json\", s)\n",
        "    # Modification des chemin d'accès vers les images\n",
        "    s = re.sub(\"train2017\", \"train\", s)\n",
        "    s = re.sub(\"val2017\", \"test\", s)\n",
        "    # Modification allocations GPU\n",
        "    s = re.sub(\"imgs_per_gpu=\\d+\",\n",
        "               \"imgs_per_gpu={}\".format(batch_size), s)\n",
        "    s = re.sub(\"workers_per_gpu=2\",\n",
        "               \"workers_per_gpu=1\", s)\n",
        "\n",
        "    s = re.sub(\"lr={}\".format(float_num),\n",
        "               \"lr={}\".format(lr),s)\n",
        "    s = re.sub(\"step=\\[.*?\\]\",\n",
        "               \"step={}\".format(str(lr_steps)),s)\n",
        "    s = re.sub(\"weight_decay={}\".format(float_num),\n",
        "               \"weight_decay={}\".format(decay),s)\n",
        "    s = re.sub(\"img_scale=\\(.*?\\)\",\n",
        "               \"img_scale={}\".format(str(img_scale)),s)\n",
        "\n",
        "# Vérification\n",
        "print(s)"
      ],
      "execution_count": 0,
      "outputs": []
    },
    {
      "cell_type": "code",
      "metadata": {
        "id": "IGSdg7j4wnQf",
        "colab_type": "code",
        "colab": {}
      },
      "source": [
        "# Ecriture dans le fichier\n",
        "with open(fname, 'w') as f:\n",
        "    f.write(s)"
      ],
      "execution_count": 0,
      "outputs": []
    },
    {
      "cell_type": "markdown",
      "metadata": {
        "id": "_pk7dz0yyhEY",
        "colab_type": "text"
      },
      "source": [
        "# Entrainement"
      ]
    },
    {
      "cell_type": "code",
      "metadata": {
        "id": "oczQrk6aySeH",
        "colab_type": "code",
        "colab": {}
      },
      "source": [
        "# Reconstruction de mmdetection\n",
        "%cd {mmdetection_dir}\n",
        "!python setup.py develop\n",
        "\n",
        "# Entrainement\n",
        "!python tools/train.py {config_fname}"
      ],
      "execution_count": 0,
      "outputs": []
    },
    {
      "cell_type": "code",
      "metadata": {
        "id": "R5UWdIFDygNN",
        "colab_type": "code",
        "colab": {}
      },
      "source": [
        "# Recherche du fichier checkpoint\n",
        "checkpoint_file = os.path.join(mmdetection_dir, work_dir, \"latest.pth\")\n",
        "assert os.path.isfile(checkpoint_file), '`{}` not exist'.format(checkpoint_file)\n",
        "\n",
        "print(\"Chemin d\\'accès : {}\".format(checkpoint_file))\n",
        "\n",
        "# Téléchargement des paramètres entrainés (checkpoint_file) et du fichier de \n",
        "# configuration (config_file)\n",
        "\n",
        "# from google.colab import files\n",
        "\n",
        "# files.download(config_file)\n",
        "# files.download(checkpoint_file)"
      ],
      "execution_count": 0,
      "outputs": []
    },
    {
      "cell_type": "markdown",
      "metadata": {
        "id": "LHZ2m_Smw2x7",
        "colab_type": "text"
      },
      "source": [
        "# Test et évaluation\n",
        "[Documentation](https://mmdetection.readthedocs.io/en/latest/GETTING_STARTED.html#inference-with-pretrained-models)\n",
        "\n",
        "Bug 1 : `TypeError: object of type 'DataContainer' has no len()`\n",
        "* [Solution](https://github.com/open-mmlab/mmdetection/issues/1501)\n",
        "\n"
      ]
    },
    {
      "cell_type": "code",
      "metadata": {
        "id": "lIDcAcKv--En",
        "colab_type": "code",
        "colab": {}
      },
      "source": [
        "# ---------------------------------------------------------------------------\n",
        "# Modification du fichier 'cocoeval.py' afin de pouvoir utiliser la librairie\n",
        "# ---------------------------------------------------------------------------\n",
        "\n",
        "import re \n",
        "\n",
        "# Chemin d'accès vers le fichier cocoeval.py\n",
        "fname = \"/usr/local/lib/python3.6/dist-packages/pycocotools/cocoeval.py\"\n",
        "\n",
        "with open(fname) as f:\n",
        "    # Lecture du fichier\n",
        "    s = f.read()\n",
        "    # Remplacement des lignes de code\n",
        "    s = re.sub('self.iouThrs = (.+)',\n",
        "               'self.iouThrs = np.linspace(.5, 0.95, (np.round((0.95 - .5) / .05) + 1).astype(np.int), endpoint=True)', s)\n",
        "    s = re.sub('self.recThrs = (.+)',\n",
        "               'self.recThrs = np.linspace(.0, 1.00, (np.round((1.00 - .0) / .01) + 1).astype(np.int), endpoint=True)', s)\n",
        "\n",
        "# Ecriture dans le fichier\n",
        "with open(fname, 'w') as f:\n",
        "    f.write(s)"
      ],
      "execution_count": 0,
      "outputs": []
    },
    {
      "cell_type": "code",
      "metadata": {
        "id": "UxMz2B2w1ZkX",
        "colab_type": "code",
        "colab": {}
      },
      "source": [
        "# ----\n",
        "# Test\n",
        "# ----\n",
        "import os\n",
        "os.environ[\"CUDA_VISIBLE_DEVICES\"] = \"0\"\n",
        "\n",
        "%cd {mmdetection_dir}\n",
        "!python tools/test.py {config_fname} {checkpoint_file} --eval bbox"
      ],
      "execution_count": 0,
      "outputs": []
    },
    {
      "cell_type": "markdown",
      "metadata": {
        "id": "6gSgydB0FpPH",
        "colab_type": "text"
      },
      "source": [
        "# Visualisation des prédictions"
      ]
    },
    {
      "cell_type": "code",
      "metadata": {
        "id": "nrZxbGruFoqv",
        "colab_type": "code",
        "colab": {}
      },
      "source": [
        "# -----------------------------\n",
        "# Visualisation des prédictions\n",
        "# -----------------------------\n",
        "\n",
        "# Installation de mmdet\n",
        "!pip install -q mmdet\n",
        "\n",
        "import time\n",
        "import matplotlib\n",
        "import matplotlib.pylab as plt\n",
        "\n",
        "%cd {mmdetection_dir}\n",
        "import mmdet\n",
        "from mmdet.models import build_detector\n",
        "from mmdet.apis import inference_detector, init_detector\n",
        "\n",
        "# Construction du modèle à partir du fichier de configuration et du fichier\n",
        "# checkpoint\n",
        "model = init_detector(config_fname, checkpoint_file)\n",
        "\n",
        "# Test d'une image et visualisation des prédictions\n",
        "# img_path = '/content/mmdetection_update/data/coco/test/S_07_05_16_DSC00421_S64.JPG'\n",
        "# img_path = '/content/mmdetection_update/data/coco/test/S_07_05_16_DSC00402_S84.JPG'\n",
        "img_path = '/content/mmdetection_update/data/coco/test/S_07_05_16_DSC00558_S25.JPG'\n",
        "# img_path = '/content/mmdetection_update/data/coco/test/S_07_05_16_DSC00522_S24.JPG'\n",
        "# img_path = '/content/mmdetection_update/data/coco/test/E2V2_DSC06109_S9.JPG'\n",
        "# img_path = '/content/mmdetection_update/data/coco/test/S_07_05_16_DSC00381_S0.JPG'\n",
        "\n",
        "result = inference_detector(model, img_path)\n",
        "\n",
        "# Fonction d'affichage perso\n",
        "os.chdir('/content/TFE-2020/Post-processing')\n",
        "import mmdet_utils\n",
        "\n",
        "# ---\n",
        "predictions = result\n",
        "img_path = img_path\n",
        "coco_path = '/content/mmdetection_update/data/coco/annotations/test_group_cocotype.json'\n",
        "score_thresh = 0.50\n",
        "# ---\n",
        "\n",
        "mmdet_utils.display(predictions, img_path, coco_path, score_thresh=score_thresh)\n",
        "matches = mmdet_utils.match(predictions, img_path, coco_path, 0.25, 0.50)\n",
        "report = mmdet_utils.report(matches, coco_path)"
      ],
      "execution_count": 0,
      "outputs": []
    },
    {
      "cell_type": "markdown",
      "metadata": {
        "id": "SU_ZUa34pkIL",
        "colab_type": "text"
      },
      "source": [
        "# Matrice de confusion sur jeu de test"
      ]
    },
    {
      "cell_type": "code",
      "metadata": {
        "id": "D0U0Pu4eRKcl",
        "colab_type": "code",
        "colab": {}
      },
      "source": [
        "# ----------------------------\n",
        "# Matrice de confusion globale\n",
        "# ----------------------------\n",
        "!pip install -q mmdet\n",
        "%cd {mmdetection_dir}\n",
        "import mmdet\n",
        "from mmdet.models import build_detector\n",
        "from mmdet.apis import inference_detector, init_detector\n",
        "import glob\n",
        "import numpy as np\n",
        "\n",
        "# Fonctions perso\n",
        "os.chdir('/content/TFE-2020/Post-processing')\n",
        "import mmdet_utils\n",
        "\n",
        "# Modèle\n",
        "model = init_detector(config_fname, checkpoint_file)\n",
        "\n",
        "# Annotations\n",
        "coco_path = '/content/mmdetection_update/data/coco/annotations/test_group_cocotype.json'\n",
        "\n",
        "# Seuils\n",
        "IoU_tresh = 0.25\n",
        "score_tresh = 0.50\n",
        "\n",
        "# List des images\n",
        "img_dir = '/content/mmdetection_update/data/coco/test'\n",
        "os.chdir(img_dir)\n",
        "images = glob.glob('*.JPG')\n",
        "\n",
        "i = 0\n",
        "for image in images:\n",
        "\n",
        "    img_path = os.path.join(img_dir, image)\n",
        "\n",
        "    predictions = inference_detector(model, img_path)\n",
        "\n",
        "    res = mmdet_utils.match(predictions, \n",
        "                                img_path,\n",
        "                                coco_path, \n",
        "                                IoU_tresh, \n",
        "                                score_tresh)\n",
        "    if i == 0:\n",
        "        matches = res\n",
        "    else:\n",
        "        matches = np.concatenate((matches, res))\n",
        "    \n",
        "    i += 1\n",
        "\n",
        "# Matrice de confusion\n",
        "matrix = mmdet_utils.matrix(matches)\n",
        "print(' ')\n",
        "print(matrix)\n",
        "print(' ')\n",
        "\n",
        "# Métriques\n",
        "report = mmdet_utils.report(matches, coco_path)"
      ],
      "execution_count": 0,
      "outputs": []
    },
    {
      "cell_type": "code",
      "metadata": {
        "id": "-VOMAC8VkhBz",
        "colab_type": "code",
        "colab": {}
      },
      "source": [
        "# Enregistrement des résultats sur le drive\n",
        "import json\n",
        "save_path = '/content/drive/My Drive/MMDetection - Object detection'\n",
        "\n",
        "# Report\n",
        "with open (os.path.join(save_path,'REPORT_FASTER50_15_W.json'),'w') as json_file:\n",
        "    json.dump(report,json_file)\n",
        "\n",
        "# Matrice de confusion\n",
        "names = ['Background'] + class_names\n",
        "i = 0\n",
        "j = 0\n",
        "confusion_matrix = {}\n",
        "for name in names:\n",
        "    dic = {name : {}}\n",
        "    for name_bis in names:\n",
        "        dic[name].update({name_bis : float(matrix[i][j])})\n",
        "        confusion_matrix.update(dic)\n",
        "        j += 1\n",
        "    j = 0\n",
        "    i += 1\n",
        "\n",
        "with open (os.path.join(save_path,'MATRIX_FASTER50_15_W.json'),'w') as json_file:\n",
        "    json.dump(confusion_matrix,json_file)"
      ],
      "execution_count": 0,
      "outputs": []
    }
  ]
}